{
 "cells": [
  {
   "cell_type": "markdown",
   "id": "029c1342",
   "metadata": {},
   "source": [
    "# AutoDP and modern privacy accounting\n",
    ":label:`autodp`"
   ]
  },
  {
   "cell_type": "markdown",
   "id": "b457d5b4",
   "metadata": {},
   "source": []
  },
  {
   "cell_type": "markdown",
   "id": "de420e89",
   "metadata": {},
   "source": [
    "## Implement basic mechanisms"
   ]
  },
  {
   "cell_type": "markdown",
   "id": "f9e1d6ec",
   "metadata": {},
   "source": [
    "## How to create your own mechanism"
   ]
  },
  {
   "cell_type": "code",
   "execution_count": null,
   "id": "8cb19a07",
   "metadata": {},
   "outputs": [],
   "source": []
  },
  {
   "cell_type": "markdown",
   "id": "1fa4f17a",
   "metadata": {},
   "source": [
    "## Calibrating Noise to Sensitivity"
   ]
  }
 ],
 "metadata": {
  "kernelspec": {
   "display_name": "Python 3 (ipykernel)",
   "language": "python",
   "name": "python3"
  },
  "language_info": {
   "codemirror_mode": {
    "name": "ipython",
    "version": 3
   },
   "file_extension": ".py",
   "mimetype": "text/x-python",
   "name": "python",
   "nbconvert_exporter": "python",
   "pygments_lexer": "ipython3",
   "version": "3.8.13"
  }
 },
 "nbformat": 4,
 "nbformat_minor": 5
}
