{
 "cells": [
  {
   "cell_type": "markdown",
   "id": "bd6e78cf",
   "metadata": {},
   "source": [
    "# Composition in Differential Privacy\n",
    ":label:`dp_composition`"
   ]
  },
  {
   "cell_type": "markdown",
   "id": "776f4f06",
   "metadata": {},
   "source": [
    "In this notebook, we introduce one of the most powerful concepts in DP known as composition, which allows us to assemble building blocks from the previous notebooks to construct more complex mechanisms.\n",
    "\n",
    "We will continue to use the California Housing dataset and use autodp for the implementations.\n"
   ]
  },
  {
   "cell_type": "markdown",
   "id": "f147d3d9",
   "metadata": {},
   "source": [
    "## Motivation for Composition\n",
    "\n",
    "Robust to composition is one of the principles any reasonable privacy definition should satisfy. \n",
    "\n",
    "\n",
    "> **Example 1: Exploratory Data Analysis** Data scientists may want to plot different statistics\n",
    "\n",
    "> **Example 2: Private SQL database** Different users of the database may query different parts of the data. What if they collude?\n",
    "\n",
    "> **Example 3: Bob in Multiple Datasets** \n",
    "\n",
    "> **Example 4: Privacy for the entire household** \n",
    "\n",
    "\n",
    "It turns out that each one of these examples are talking about very different \n",
    "\n",
    "\n",
    "\n",
    "\n"
   ]
  },
  {
   "cell_type": "markdown",
   "id": "f644a79d",
   "metadata": {},
   "source": [
    "## Sequential composition vs parallel composition\n",
    "\n",
    "\n"
   ]
  },
  {
   "cell_type": "markdown",
   "id": "95504872",
   "metadata": {},
   "source": [
    "## Adaptive vs Non-adaptive composition\n",
    "\n",
    "What does it mean by \n",
    "\n",
    "Both sequential and parallel composition supports adaptivity for free. \n"
   ]
  },
  {
   "cell_type": "markdown",
   "id": "d5790760",
   "metadata": {},
   "source": []
  },
  {
   "cell_type": "markdown",
   "id": "013c8770",
   "metadata": {},
   "source": [
    "## Naive composition vs advanced composition"
   ]
  },
  {
   "cell_type": "markdown",
   "id": "a66614ee",
   "metadata": {},
   "source": [
    "## Modern *Mechanism-Specific* Privacy Accounting"
   ]
  },
  {
   "cell_type": "markdown",
   "id": "fb5f98ff",
   "metadata": {},
   "source": [
    "## Group composition "
   ]
  }
 ],
 "metadata": {
  "kernelspec": {
   "display_name": "Python 3 (ipykernel)",
   "language": "python",
   "name": "python3"
  },
  "language_info": {
   "codemirror_mode": {
    "name": "ipython",
    "version": 3
   },
   "file_extension": ".py",
   "mimetype": "text/x-python",
   "name": "python",
   "nbconvert_exporter": "python",
   "pygments_lexer": "ipython3",
   "version": "3.8.13"
  }
 },
 "nbformat": 4,
 "nbformat_minor": 5
}
