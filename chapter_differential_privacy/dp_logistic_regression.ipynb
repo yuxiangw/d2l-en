{
 "cells": [
  {
   "cell_type": "markdown",
   "id": "9ab9f855",
   "metadata": {},
   "source": [
    "# Differentially Private Logistic Regression\n",
    ":label:`dp_logistic_regression`\n",
    "\n",
    "In the last notebook, we learned about DP linear regression. In the cases when we have a classification problem instead, the standard baseline model to use is logistic regression.  In this notebook we will learn a specialized mechanism for Differentially Private Logistic Regression known as Objective Perturbation.\n",
    "\n"
   ]
  },
  {
   "cell_type": "code",
   "execution_count": null,
   "id": "8a8b332e",
   "metadata": {},
   "outputs": [],
   "source": []
  }
 ],
 "metadata": {
  "kernelspec": {
   "display_name": "Python 3 (ipykernel)",
   "language": "python",
   "name": "python3"
  },
  "language_info": {
   "codemirror_mode": {
    "name": "ipython",
    "version": 3
   },
   "file_extension": ".py",
   "mimetype": "text/x-python",
   "name": "python",
   "nbconvert_exporter": "python",
   "pygments_lexer": "ipython3",
   "version": "3.8.13"
  }
 },
 "nbformat": 4,
 "nbformat_minor": 5
}
